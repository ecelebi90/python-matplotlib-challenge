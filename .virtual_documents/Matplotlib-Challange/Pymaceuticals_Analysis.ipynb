


#Dependencies and Setup
import matplotlib.pyplot as plt
import pandas as pd
import numpy as np
import scipy.stats as st
from scipy.stats import linregress


#Study data files 
mouse_metadata_path = ("Pymaceuticals/data/Mouse_metadata.csv")
study_results_path = ("Pymaceuticals/data/Study_results.csv")

#Read the mouse data and the study results
mouse_metadata = pd.read_csv(mouse_metadata_path)
study_results = pd.read_csv(study_results_path)

#Combine the data into a single DataFrame

study_data_complete = pd.merge(study_results, mouse_metadata, how="left", on=["Mouse ID", "Mouse ID"])

study_data_complete.head()



# Checking the number of mice
total_mouse = len(study_data_complete["Mouse ID"].unique())
total_mouse


# Our data should be uniquely identified by Mouse ID and Timepoint
# Get the duplicate mice by ID number that shows up for Mouse ID and Timepoint.
study_data_complete_df = pd.DataFrame(study_data_complete)

duplicate_mouse_id = study_data_complete_df[study_data_complete_df.duplicated(subset=["Mouse ID", "Timepoint"], keep=False)]["Mouse ID"].unique()
duplicated_data = study_data_complete_df[study_data_complete_df["Mouse ID"].isin(duplicate_mouse_id)]
duplicated_data     


#Create a clean DataFrame by dropping the duplicated Mouse ID
clean_study_data_complete_df = study_data_complete_df[~study_data_complete_df["Mouse ID"].isin(duplicate_mouse_id)]
clean_study_data_complete_df.head()


# Checking the number of mice in the clean DataFrame.
total_unique_mouse = len(clean_study_data_complete_df["Mouse ID"].unique())
total_unique_mouse





# Generate a summary statistics table of mean, median, variance, standard deviation, and SEM of the tumor volume for each regimen

#Use groupby and summary statistical methods to calculate the following properties of each drug regimen:
# mean, median, variance, standard deviation, and SEM of the tumor volume.
tumor_volume_mean = clean_study_data_complete_df.groupby(["Drug Regimen"])["Tumor Volume (mm3)"].mean()
tumor_volume_median = clean_study_data_complete_df.groupby(["Drug Regimen"])["Tumor Volume (mm3)"].median()
tumor_volume_var = clean_study_data_complete_df.groupby(["Drug Regimen"])["Tumor Volume (mm3)"].var()
tumor_volume_std = clean_study_data_complete_df.groupby(["Drug Regimen"])["Tumor Volume (mm3)"].std()
tumor_volume_sem = clean_study_data_complete_df.groupby(["Drug Regimen"])["Tumor Volume (mm3)"].sem()

# Assemble the resulting series into a single summary DataFrame.
Stat_Summary_Drug = pd.DataFrame({"Mean Tumor Volume":tumor_volume_mean,"Median Tumor Volume":tumor_volume_median,
                                  "Tumor Volume Variance":tumor_volume_var,"Tumor Volume Std. Dev.":tumor_volume_std,
                                  "Tumor Volume Std. Err.":tumor_volume_sem})
Stat_Summary_Drug                                  



# Using the aggregation method, produce the same summary statistics in a single line

Agg_Stat_Summary_Drug = {'Tumor Volume (mm3)': ['mean','median','var','std','sem']}

Agg_Stat_Summary_Drug_Table = clean_study_data_complete_df.groupby("Drug Regimen").agg(Agg_Stat_Summary_Drug)

Agg_Stat_Summary_Drug_Table






# Generate a bar plot showing the total number of rows (Mouse ID/Timepoints) for each drug regimen using Pandas.
total_drug_regimen_count = clean_study_data_complete_df.groupby(["Drug Regimen"]).size()
total_drug_regimen_count_df = total_drug_regimen_count.to_frame()
total_drug_regimen_count.plot(kind='bar', color = 'blue', alpha=0.7, figsize=(10,6))
plt.xlabel('Drug Regimen')
plt.ylabel('# of Observed Mouse Timepoints')
plt.show()


# Generate a bar plot showing the total number of rows (Mouse ID/Timepoints) for each drug regimen using pyplot.
plt.figure(figsize=(6,6))
plt.bar(total_drug_regimen_count_df.index, total_drug_regimen_count_df[0], color='blue', alpha=0.7)
plt.xlabel('Drug Regimen')
plt.ylabel('# of Observed Mouse Timepoints')
plt.xticks(rotation=90)
plt.show()



# Generate a pie chart, using Matplotlib, showing the distribution of unique female versus male mice used in the study
total_sex_count = clean_study_data_complete_df['Sex'].value_counts()
total_sex_count_df=total_sex_count.to_frame()
# Get the unique mice with their gender

total_sex_count
total_sex_count.plot(kind='pie', autopct='%1.1f%%')
plt.ylabel('count')
plt.show()

# # Make the pie chart



# Generate a pie chart, using Pandas, showing the distribution of unique female versus male mice used in the study
pieplot = total_sex_count.plot.pie(autopct='%1.1f%%', figsize = (5,5), subplots=True)





# Calculate the final tumor volume of each mouse across four of the treatment regimens:
# Capomulin, Ramicane, Infubinol, and Ceftamin
four_treatments_df = clean_study_data_complete_df[clean_study_data_complete_df["Drug Regimen"].isin(["Capomulin", "Ramicane", "Infubinol", "Ceftamin"])]

# Start by getting the last (greatest) timepoint for each mouse
grouped_df = four_treatments_df.groupby("Mouse ID")["Timepoint"].max()

# Merge this group df with the original DataFrame to get the tumor volume at the last timepoint
tumor_volume_df = pd.merge(grouped_df, four_treatments_df, on=["Mouse ID", "Timepoint"], how="inner")
tumor_volume_df.head()


# Put treatments into a list for for loop (and later for plot labels)
treatment_list = ['Capomulin', 'Ramicane', 'Infubinol', 'Ceftamin']

# Create empty list to fill with tumor vol data (for plotting)
tumor_vol_data = {}
quartiles = {}
append_list =[]
# Loop through each drug in the treatment list
for drug in treatment_list:
    drug_data = tumor_volume_df.loc[tumor_volume_df['Drug Regimen']==drug,'Tumor Volume (mm3)']
    # tumor_vol_data[drug] = drug_data['Tumor Volume (mm3)'].to_list()
   
    quartiles[drug] = drug_data.quantile([.25, .5, .75])
    
    lowerq = quartiles[drug][0.25]
    upperq = quartiles[drug][.75]
    iqr = upperq - lowerq
    lower_bound = lowerq - (1.5*iqr)
    upper_bound = upperq + (1.5*iqr)
    # list = append_list.append(tumor_vol_data[drug])
 
    outliers = drug_data.loc[(drug_data < lower_bound)|(drug_data > upper_bound)]
    print(f"{drug}'s potential outliers: {outliers}")



# Put treatments into a list for for loop (and later for plot labels)
treatment_list = ['Capomulin', 'Ramicane', 'Infubinol', 'Ceftamin']

# Create empty list to fill with tumor vol data (for plotting)
tumor_vol_data = []

for drug in treatment_list:
    # tumor_vol_data[drug]  = tumor_volume_df[tumor_volume_df["Drug Regimen"] == drug]["Tumor Volume (mm3)"]  
    tumor_vol_data.append(tumor_volume_df[tumor_volume_df["Drug Regimen"] ==drug]["Tumor Volume (mm3)"].values) 

fig1, ax1 = plt.subplots()
ax1.set_ylabel("Final Tumor Volume (mm3)")
ax1.boxplot(tumor_vol_data, labels=treatment_list)
plt.show()  
  






# Generate a line plot of tumor volume vs. time point for a single mouse treated with Capomulin

# capomulin_mouse= clean_study_data_complete_df[clean_study_data_complete_df["Drug Regimen"].isin(["Capomulin"])]
capomulin_mouse = study_data_complete[study_data_complete["Mouse ID"]=='r944']
capomulin_mouse


capomulin_mouse_line = capomulin_mouse.plot(x='Timepoint', y='Tumor Volume (mm3)', xlabel='Timepoint (days)', ylabel='Tumor Volume (mm3)',
                                            title='Capomulin treatment of mouse 1888', color = "blue")
plt.show()


# Generate a scatter plot of mouse weight vs. the average observed tumor volume for the entire Capomulin regimen
# capomulin_treatment2 = study_data_complete[study_data_complete["Drug Regimen"]=='Capomulin']
# capomulin_treatment2
capomulin_treatment = study_data_complete [study_data_complete["Drug Regimen"].isin(["Capomulin"])]

capomulin_tumor = capomulin_treatment.groupby("Mouse ID")["Tumor Volume (mm3)"].mean()
capomulin_weight = capomulin_treatment.groupby("Mouse ID")["Weight (g)"].mean()
capomulin_weight_df = capomulin_weight.to_frame()
capomulin_tumor_df = capomulin_tumor.to_frame()

plt.scatter(capomulin_weight_df, capomulin_tumor_df )
plt.xlabel("Weight (g)")
plt.ylabel("Average Tumor Volume (mm3)")
plt.show()







# Calculate the correlation coefficient and a linear regression model
# for mouse weight and average observed tumor volume for the entire Capomulin regimen
x_values = capomulin_weight_df["Weight (g)"]
y_values = capomulin_tumor_df["Tumor Volume (mm3)"]

correlation = st.pearsonr(x_values, y_values)
print(f"The correlation between mouse weight and the average tumor volume is {round(correlation[0],2)}")

slope, intercept, rvalue, pvalue, stderr = linregress(x_values, y_values)
regress_values = x_values * slope + intercept
line_eq = "y = " + str(round(slope, 2)) + "x + " + str(round(intercept, 2))
plt.scatter(x_values,y_values)
plt.plot(x_values, regress_values, "r-")
plt.annotate(line_eq, (20,36), fontsize = 15, color="red")
plt.xlabel("Weight (g)")
plt.ylabel("Average Tumor Volume (mm3)")
plt.show()



